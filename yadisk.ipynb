{
 "cells": [
  {
   "cell_type": "code",
   "execution_count": 4,
   "metadata": {},
   "outputs": [],
   "source": [
    "import pandas as pd\n",
    "import numpy as np\n",
    "import yadisk"
   ]
  },
  {
   "cell_type": "code",
   "execution_count": 5,
   "metadata": {},
   "outputs": [
    {
     "data": {
      "text/plain": [
       "True"
      ]
     },
     "execution_count": 5,
     "metadata": {},
     "output_type": "execute_result"
    }
   ],
   "source": [
    "y = yadisk.YaDisk(token=\"AQAAAABicHdlAAgCbDVt0snMj0oCnjhFKbp8Uh4\")\n",
    "y.check_token()"
   ]
  },
  {
   "cell_type": "code",
   "execution_count": 6,
   "metadata": {},
   "outputs": [
    {
     "data": {
      "text/plain": [
       "<DiskInfoObject{'max_file_size': 54760833024, 'unlimited_autoupload_enabled': False, 'total_space': 5368709120, 'trash_size': 0, 'is_paid': False, 'used_space': 40821195, 'system_folders': <SystemFoldersObject{'odnoklassniki': 'disk:/Социальные сети/Одноклассники', 'google': 'disk:/Социальные сети/Google+', 'instagram': 'disk:/Социальные сети/Instagram', 'vkontakte': 'disk:/Социальные сети/ВКонтакте', 'mailru': 'disk:/Социальные сети/Мой Мир', 'downloads': 'disk:/Загрузки/', 'applications': 'disk:/Приложения', 'facebook': 'disk:/Социальные сети/Facebook', 'social': 'disk:/Социальные сети/', 'screenshots': 'disk:/Скриншоты/', 'photostream': 'disk:/Фотокамера/'}>, 'user': <UserObject{'country': 'ru', 'login': 'liza.kotcotova', 'display_name': 'liza.kotcotova', 'uid': '1651537765'}>, 'revision': 1656070579685832}>"
      ]
     },
     "execution_count": 6,
     "metadata": {},
     "output_type": "execute_result"
    }
   ],
   "source": [
    "y.get_disk_info()"
   ]
  },
  {
   "cell_type": "code",
   "execution_count": 9,
   "metadata": {},
   "outputs": [
    {
     "data": {
      "text/plain": [
       "[<ResourceObject{'antivirus_status': None, 'file': None, 'size': None, 'public_key': None, 'sha256': None, 'embedded': None, 'name': 'Для загрузки', 'exif': <EXIFObject{'date_time': None}>, 'resource_id': '1651537765:13c6265c55d8aa84dcf2f5331de46c5170daff1e8c1c43c3736eadcce7cd4514', 'custom_properties': None, 'public_url': None, 'share': None, 'modified': datetime.datetime(2022, 6, 24, 11, 44, 6, tzinfo=datetime.timezone.utc), 'created': datetime.datetime(2022, 6, 24, 11, 44, 6, tzinfo=datetime.timezone.utc), 'photoslice_time': None, 'mime_type': None, 'path': 'disk:/Для загрузки', 'preview': None, 'comment_ids': <CommentIDsObject{'private_resource': '1651537765:13c6265c55d8aa84dcf2f5331de46c5170daff1e8c1c43c3736eadcce7cd4514', 'public_resource': '1651537765:13c6265c55d8aa84dcf2f5331de46c5170daff1e8c1c43c3736eadcce7cd4514'}>, 'type': 'dir', 'media_type': None, 'md5': None, 'revision': 1656071046922692}>,\n",
       " <ResourceObject{'antivirus_status': 'clean', 'file': 'https://downloader.disk.yandex.ru/disk/558cbcf8b1c801b0ddef65c23b4c0cbc9f316cb196aeaea806a38c73db7c163b/62b5dbcc/27dtdWwpiHWAOMwjvJSigCdbkJ2sC_KEk2e_VtbYAOdr6rmRYtpbQYz3IVW_GnQTUp8cZpYb05BdYA_XdsnYOQ%3D%3D?uid=1651537765&filename=%D0%93%D0%BE%D1%80%D1%8B.jpg&disposition=attachment&hash=&limit=0&content_type=image%2Fjpeg&owner_uid=1651537765&fsize=1762478&hid=17e80f91be8985790b9b63a1ab6d29f2&media_type=image&tknv=v2&etag=1392851f0668017168ee4b5a59d66e7b', 'size': 1762478, 'public_key': None, 'sha256': 'd69e72661e26d9f1d44ab12e59c6cebfde48c125299db7768c913cfb5e42dffd', 'embedded': None, 'name': 'Горы.jpg', 'exif': <EXIFObject{'date_time': datetime.datetime(2014, 12, 13, 3, 47, 6, tzinfo=datetime.timezone.utc)}>, 'resource_id': '1651537765:9729e0ec50e65340602df4370c36e0ca7150ea9d63f4c17d6d934f84def62186', 'custom_properties': None, 'public_url': None, 'share': None, 'modified': datetime.datetime(2022, 6, 24, 11, 36, 19, tzinfo=datetime.timezone.utc), 'created': datetime.datetime(2022, 6, 24, 11, 36, 19, tzinfo=datetime.timezone.utc), 'photoslice_time': None, 'mime_type': 'image/jpeg', 'path': 'disk:/Горы.jpg', 'preview': 'https://downloader.disk.yandex.ru/preview/e6fab9e252a61b13f5e39548d2c5db8e3da65e665afcfc39fb7bc7e1a1a5590c/inf/P1Uu3IBvn2J_059WhlC9XydbkJ2sC_KEk2e_VtbYAOfuuRRO_ACnqYduWLfxvvz5VgHzs7xBXDvk4Qqe7B86gQ%3D%3D?uid=1651537765&filename=%D0%93%D0%BE%D1%80%D1%8B.jpg&disposition=inline&hash=&limit=0&content_type=image%2Fjpeg&owner_uid=1651537765&tknv=v2&size=S&crop=0', 'comment_ids': <CommentIDsObject{'private_resource': '1651537765:9729e0ec50e65340602df4370c36e0ca7150ea9d63f4c17d6d934f84def62186', 'public_resource': '1651537765:9729e0ec50e65340602df4370c36e0ca7150ea9d63f4c17d6d934f84def62186'}>, 'type': 'file', 'media_type': 'image', 'md5': '1392851f0668017168ee4b5a59d66e7b', 'revision': 1656070579685832}>,\n",
       " <ResourceObject{'antivirus_status': 'clean', 'file': 'https://downloader.disk.yandex.ru/disk/aba3e1953f1e3deed342010f8d9a975b61ab205ac07f39ac8db6658b3ca4c20c/62b5dbcc/D-iq9lQjX_Zr993IEYjzkmycE3C0fjH29HfwRtDDKVyWBJtVQkKaAY6WQLsBCfaX_5jVH_I_j0M2ihrTxEBGRg%3D%3D?uid=1651537765&filename=%D0%97%D0%B8%D0%BC%D0%B0.jpg&disposition=attachment&hash=&limit=0&content_type=image%2Fjpeg&owner_uid=1651537765&fsize=1394575&hid=db0ae88c49a4428517b857606969996b&media_type=image&tknv=v2&etag=a64146fee5e15b3b94c204e544426d43', 'size': 1394575, 'public_key': None, 'sha256': '92850360b5dd81417b6576ca2b570bd6d4d669c700480940380cc92fa48a4d4f', 'embedded': None, 'name': 'Зима.jpg', 'exif': <EXIFObject{'date_time': datetime.datetime(2014, 12, 13, 11, 8, 58, tzinfo=datetime.timezone.utc)}>, 'resource_id': '1651537765:8739839abe9558247f687b8574e06afd532c764bb44fcb85625c85b15ebc59ad', 'custom_properties': None, 'public_url': None, 'share': None, 'modified': datetime.datetime(2022, 6, 24, 11, 36, 18, tzinfo=datetime.timezone.utc), 'created': datetime.datetime(2022, 6, 24, 11, 36, 18, tzinfo=datetime.timezone.utc), 'photoslice_time': None, 'mime_type': 'image/jpeg', 'path': 'disk:/Зима.jpg', 'preview': 'https://downloader.disk.yandex.ru/preview/042b600dfec99db64a0992aec860b6825d1db2b55bd99aac64bfbcd0f6381b1b/inf/gJ9KiimGoYbGCe2IrDWcVGycE3C0fjH29HfwRtDDKVygSgSgsryLElCdDXXAJj1BBccTjprd_uY3WWhDvvyBVA%3D%3D?uid=1651537765&filename=%D0%97%D0%B8%D0%BC%D0%B0.jpg&disposition=inline&hash=&limit=0&content_type=image%2Fjpeg&owner_uid=1651537765&tknv=v2&size=S&crop=0', 'comment_ids': <CommentIDsObject{'private_resource': '1651537765:8739839abe9558247f687b8574e06afd532c764bb44fcb85625c85b15ebc59ad', 'public_resource': '1651537765:8739839abe9558247f687b8574e06afd532c764bb44fcb85625c85b15ebc59ad'}>, 'type': 'file', 'media_type': 'image', 'md5': 'a64146fee5e15b3b94c204e544426d43', 'revision': 1656070578884169}>,\n",
       " <ResourceObject{'antivirus_status': 'clean', 'file': 'https://downloader.disk.yandex.ru/disk/47832f87d8096602bc56a2c8397a2ea735a968682edeb23c66e95099eade7b84/62b5dbcc/YCWwIV93r7kdvdgkpYJf7GJbR3ANcQde87h7hiBT0GgAoFo_n3KO9GXq2HWzSWwrwox97L651eAD93T19uJnow%3D%3D?uid=1651537765&filename=%D0%9C%D0%B8%D1%88%D0%BA%D0%B8.jpg&disposition=attachment&hash=&limit=0&content_type=image%2Fjpeg&owner_uid=1651537765&fsize=1555830&hid=d4562df88a4f7d98d8aa94e30de24c09&media_type=image&tknv=v2&etag=569a1c98696050439b5b2a1ecfa52d19', 'size': 1555830, 'public_key': None, 'sha256': 'd76ce57d8abf4e8eafbc7c85cec59a7a7f12b1d603d51e928be4a3fea0f6817c', 'embedded': None, 'name': 'Мишки.jpg', 'exif': <EXIFObject{'date_time': datetime.datetime(2014, 12, 13, 14, 29, 24, tzinfo=datetime.timezone.utc)}>, 'resource_id': '1651537765:cbc8152612c35a4471992105cd0bd74a334f87f703a5e0694ed4c6b5976a5497', 'custom_properties': None, 'public_url': None, 'share': None, 'modified': datetime.datetime(2022, 6, 24, 11, 36, 18, tzinfo=datetime.timezone.utc), 'created': datetime.datetime(2022, 6, 24, 11, 36, 18, tzinfo=datetime.timezone.utc), 'photoslice_time': None, 'mime_type': 'image/jpeg', 'path': 'disk:/Мишки.jpg', 'preview': 'https://downloader.disk.yandex.ru/preview/68e4b095336ca205e92d5bbbcdb486e312f2b66763f6adafd78c9b6c3c8a970b/inf/fwhLIia_-zlk2uITaqxgbGJbR3ANcQde87h7hiBT0GhEI8fhcC9IFRIL8W4OBV0J-yLh1Ds-lBckf41RQO7cPQ%3D%3D?uid=1651537765&filename=%D0%9C%D0%B8%D1%88%D0%BA%D0%B8.jpg&disposition=inline&hash=&limit=0&content_type=image%2Fjpeg&owner_uid=1651537765&tknv=v2&size=S&crop=0', 'comment_ids': <CommentIDsObject{'private_resource': '1651537765:cbc8152612c35a4471992105cd0bd74a334f87f703a5e0694ed4c6b5976a5497', 'public_resource': '1651537765:cbc8152612c35a4471992105cd0bd74a334f87f703a5e0694ed4c6b5976a5497'}>, 'type': 'file', 'media_type': 'image', 'md5': '569a1c98696050439b5b2a1ecfa52d19', 'revision': 1656070578419175}>,\n",
       " <ResourceObject{'antivirus_status': 'clean', 'file': 'https://downloader.disk.yandex.ru/disk/9f120acff3166e1a5e0d26cf118a89f9040130beb3fb047ade78c363cda66b70/62b5dbcc/WkVZq2fSNyX4Wj1eGp5xvVuQ-biYzXHMfURW4VIc4rnTDhDv_2FACX-6brYvo5Lna_4TuhGY_HuTtgY7RM8VkQ%3D%3D?uid=1651537765&filename=%D0%9C%D0%BE%D1%80%D0%B5.jpg&disposition=attachment&hash=&limit=0&content_type=image%2Fjpeg&owner_uid=1651537765&fsize=1080301&hid=d7c189c9f94c684a2a2e6cfd66ed312d&media_type=image&tknv=v2&etag=ab903d9cab031eca2a8f12f37bbc9d37', 'size': 1080301, 'public_key': None, 'sha256': '21f14018436c3dca7a47c5bd83f3b9bbc8b6c113b2a1d23ce7f5a0c80ce0e687', 'embedded': None, 'name': 'Море.jpg', 'exif': <EXIFObject{'date_time': datetime.datetime(2014, 12, 13, 10, 31, 34, tzinfo=datetime.timezone.utc)}>, 'resource_id': '1651537765:7a2bcc8f3ae9e33a03203f45c9f22e9f911f78ae0b7a2d99fb31a5c0ef30d4e3', 'custom_properties': None, 'public_url': None, 'share': None, 'modified': datetime.datetime(2022, 6, 24, 11, 36, 17, tzinfo=datetime.timezone.utc), 'created': datetime.datetime(2022, 6, 24, 11, 36, 17, tzinfo=datetime.timezone.utc), 'photoslice_time': None, 'mime_type': 'image/jpeg', 'path': 'disk:/Море.jpg', 'preview': 'https://downloader.disk.yandex.ru/preview/46efef136fb799c38f51800ffd70ad7f7efeb97d6569f0ad57596768250ec342/inf/e4WTSuwXNwLjbjwaWi1vXFuQ-biYzXHMfURW4VIc4rmBxZhGf6N5b4MEf_ueh3VwZDJ7I3Qq7cU45yvpQs5vyA%3D%3D?uid=1651537765&filename=%D0%9C%D0%BE%D1%80%D0%B5.jpg&disposition=inline&hash=&limit=0&content_type=image%2Fjpeg&owner_uid=1651537765&tknv=v2&size=S&crop=0', 'comment_ids': <CommentIDsObject{'private_resource': '1651537765:7a2bcc8f3ae9e33a03203f45c9f22e9f911f78ae0b7a2d99fb31a5c0ef30d4e3', 'public_resource': '1651537765:7a2bcc8f3ae9e33a03203f45c9f22e9f911f78ae0b7a2d99fb31a5c0ef30d4e3'}>, 'type': 'file', 'media_type': 'image', 'md5': 'ab903d9cab031eca2a8f12f37bbc9d37', 'revision': 1656070578071319}>,\n",
       " <ResourceObject{'antivirus_status': 'clean', 'file': 'https://downloader.disk.yandex.ru/disk/e1bbc610492bab8b39c011eeae291f98350800db8b226949ae815ad23eb0409c/62b5dbcc/8Ng7aqpQFqID9pDAoIfkzJNiNSME7Q0O0DrXr5-IhMhsc2sfDe4WYN63DQe_2uMcRJgJ9rEomrz3OKR_LVAEqg%3D%3D?uid=1651537765&filename=%D0%9C%D0%BE%D1%81%D0%BA%D0%B2%D0%B0.jpg&disposition=attachment&hash=&limit=0&content_type=image%2Fjpeg&owner_uid=1651537765&fsize=1454228&hid=427d5900ad807ada37f94079f0fe7806&media_type=image&tknv=v2&etag=d27d72a3059ad5ebed7a5470459d2670', 'size': 1454228, 'public_key': None, 'sha256': 'fe9e2ea0d191ff0eb9d2129464f87da5fd5f02f370a4889492efc18947c70172', 'embedded': None, 'name': 'Москва.jpg', 'exif': <EXIFObject{'date_time': datetime.datetime(2014, 12, 13, 11, 59, 54, tzinfo=datetime.timezone.utc)}>, 'resource_id': '1651537765:8f68a3663a22fef7698029877f78d795f6b962ea7bdbee2b42c7b0b01c041eb4', 'custom_properties': None, 'public_url': None, 'share': None, 'modified': datetime.datetime(2022, 6, 24, 11, 36, 17, tzinfo=datetime.timezone.utc), 'created': datetime.datetime(2022, 6, 24, 11, 36, 17, tzinfo=datetime.timezone.utc), 'photoslice_time': None, 'mime_type': 'image/jpeg', 'path': 'disk:/Москва.jpg', 'preview': 'https://downloader.disk.yandex.ru/preview/b4dd0fa7f8d36769afd6c121383c6978d22bdbffeb3af1d0239ad710741062f4/inf/PNec8rFbFd0WPJMSAfUc7pNiNSME7Q0O0DrXr5-IhMgAOITNajybxvIo7yfrDcZbCvINiUpbWSnJA594N-sTjQ%3D%3D?uid=1651537765&filename=%D0%9C%D0%BE%D1%81%D0%BA%D0%B2%D0%B0.jpg&disposition=inline&hash=&limit=0&content_type=image%2Fjpeg&owner_uid=1651537765&tknv=v2&size=S&crop=0', 'comment_ids': <CommentIDsObject{'private_resource': '1651537765:8f68a3663a22fef7698029877f78d795f6b962ea7bdbee2b42c7b0b01c041eb4', 'public_resource': '1651537765:8f68a3663a22fef7698029877f78d795f6b962ea7bdbee2b42c7b0b01c041eb4'}>, 'type': 'file', 'media_type': 'image', 'md5': 'd27d72a3059ad5ebed7a5470459d2670', 'revision': 1656070577309479}>,\n",
       " <ResourceObject{'antivirus_status': 'clean', 'file': 'https://downloader.disk.yandex.ru/disk/ccf34465332eaa9a7950490948c6906a2ca67c0206e69507a5b061c3db97bdb3/62b5dbcc/h-E5iv20qS6fudmqH3bYJQbaFxT3rScdKEweqEuLeCfpIXSoYPz-jGUXWWWvRDGcjzQBoIfYHZ83UPw-z3gSBg%3D%3D?uid=1651537765&filename=%D0%A1%D0%B0%D0%BD%D0%BA%D1%82-%D0%9F%D0%B5%D1%82%D0%B5%D1%80%D0%B1%D1%83%D1%80%D0%B3.jpg&disposition=attachment&hash=&limit=0&content_type=image%2Fjpeg&owner_uid=1651537765&fsize=2573704&hid=bc8e245154c42183b8b33f0631237e5e&media_type=image&tknv=v2&etag=f1abe3b27b410128623fd1ca00a45c29', 'size': 2573704, 'public_key': None, 'sha256': 'c142184b858a12a672bed0533812eb7eef3b1fac38c27eaef6c8f0915d98a8dc', 'embedded': None, 'name': 'Санкт-Петербург.jpg', 'exif': <EXIFObject{'date_time': datetime.datetime(2014, 12, 12, 21, 44, 18, tzinfo=datetime.timezone.utc)}>, 'resource_id': '1651537765:9f000509e40feda78b7211d31c1b3b676b5af9a8f6f324354983912467c0beb1', 'custom_properties': None, 'public_url': None, 'share': None, 'modified': datetime.datetime(2022, 6, 24, 11, 36, 17, tzinfo=datetime.timezone.utc), 'created': datetime.datetime(2022, 6, 24, 11, 36, 17, tzinfo=datetime.timezone.utc), 'photoslice_time': None, 'mime_type': 'image/jpeg', 'path': 'disk:/Санкт-Петербург.jpg', 'preview': 'https://downloader.disk.yandex.ru/preview/4c4ea8db97e7edcc9e75f817ae060fa93332ab7058b9b09cd59968508ae5439c/inf/h-E5iv20qS6fudmqH3bYJQIJiCgazPYKT2VSCqZE5qCLiq3t7P5xJl8XHUV2wZHhikxqHPRnAj71fyEJ3X37Gg%3D%3D?uid=1651537765&filename=%D0%A1%D0%B0%D0%BD%D0%BA%D1%82-%D0%9F%D0%B5%D1%82%D0%B5%D1%80%D0%B1%D1%83%D1%80%D0%B3.jpg&disposition=inline&hash=&limit=0&content_type=image%2Fjpeg&owner_uid=1651537765&tknv=v2&size=S&crop=0', 'comment_ids': <CommentIDsObject{'private_resource': '1651537765:9f000509e40feda78b7211d31c1b3b676b5af9a8f6f324354983912467c0beb1', 'public_resource': '1651537765:9f000509e40feda78b7211d31c1b3b676b5af9a8f6f324354983912467c0beb1'}>, 'type': 'file', 'media_type': 'image', 'md5': 'f1abe3b27b410128623fd1ca00a45c29', 'revision': 1656070577672105}>,\n",
       " <ResourceObject{'antivirus_status': 'clean', 'file': 'https://downloader.disk.yandex.ru/disk/58f7df89bb8b53860e01bfee40630481238b20f821ef9b9741767b3123a529d4/62b5dbcc/2IoFYJdgmtk5GAF45h99WPnBJ8ZXMdQXg1Tr8iV36ewrurbzgTQZtjIRTatIJPyzlBhZ7AXJcIRcMH9847fKIA%3D%3D?uid=1651537765&filename=%D0%A5%D0%BB%D0%B5%D0%B1%D0%BD%D1%8B%D0%B5%20%D0%BA%D1%80%D0%BE%D1%88%D0%BA%D0%B8.mp4&disposition=attachment&hash=&limit=0&content_type=video%2Fmp4&owner_uid=1651537765&fsize=31000079&hid=94202fd1336a809f74d8e7c38ab35906&media_type=video&tknv=v2&etag=ea977f513074d5524bee3638798183b9', 'size': 31000079, 'public_key': None, 'sha256': '14b39d4ed08c76d2031d7a6a4e708c98ddc63569e9806d602f6ac702db47ae19', 'embedded': None, 'name': 'Хлебные крошки.mp4', 'exif': <EXIFObject{'date_time': datetime.datetime(2014, 2, 7, 5, 30, 2, tzinfo=datetime.timezone.utc)}>, 'resource_id': '1651537765:d14fd7a151ab45584f59046269a1882b8231ed4e65f9b6a2997f4263ff48c43f', 'custom_properties': None, 'public_url': None, 'share': None, 'modified': datetime.datetime(2022, 6, 24, 11, 36, 19, tzinfo=datetime.timezone.utc), 'created': datetime.datetime(2022, 6, 24, 11, 36, 19, tzinfo=datetime.timezone.utc), 'photoslice_time': None, 'mime_type': 'video/mp4', 'path': 'disk:/Хлебные крошки.mp4', 'preview': 'https://downloader.disk.yandex.ru/preview/e3d13f524a482c236d350f251dbaca2bf0d501e98bc8821af027fbd75a1284d1/inf/-pgQNZfp9o_7gHS-Wt7fy_nBJ8ZXMdQXg1Tr8iV36ewPDDD1HmYpS17mcBvMVaQ_LUsVSSGf-Pn5y20PwvXAig%3D%3D?uid=1651537765&filename=%D0%A5%D0%BB%D0%B5%D0%B1%D0%BD%D1%8B%D0%B5%20%D0%BA%D1%80%D0%BE%D1%88%D0%BA%D0%B8.mp4&disposition=inline&hash=&limit=0&content_type=image%2Fjpeg&owner_uid=1651537765&tknv=v2&size=S&crop=0', 'comment_ids': <CommentIDsObject{'private_resource': '1651537765:d14fd7a151ab45584f59046269a1882b8231ed4e65f9b6a2997f4263ff48c43f', 'public_resource': '1651537765:d14fd7a151ab45584f59046269a1882b8231ed4e65f9b6a2997f4263ff48c43f'}>, 'type': 'file', 'media_type': 'video', 'md5': 'ea977f513074d5524bee3638798183b9', 'revision': 1656070579341513}>]"
      ]
     },
     "execution_count": 9,
     "metadata": {},
     "output_type": "execute_result"
    }
   ],
   "source": [
    "list(y.listdir(\"/\"))"
   ]
  },
  {
   "cell_type": "markdown",
   "metadata": {},
   "source": [
    "https://yadisk.readthedocs.io/ru/latest/intro.html"
   ]
  }
 ],
 "metadata": {
  "interpreter": {
   "hash": "d21340965a43390af95fc9d33a23e77654aa2a9c6e7ddf76c03b11888ffe067a"
  },
  "kernelspec": {
   "display_name": "Python 3.9.7 ('tf')",
   "language": "python",
   "name": "python3"
  },
  "language_info": {
   "codemirror_mode": {
    "name": "ipython",
    "version": 3
   },
   "file_extension": ".py",
   "mimetype": "text/x-python",
   "name": "python",
   "nbconvert_exporter": "python",
   "pygments_lexer": "ipython3",
   "version": "3.9.7"
  },
  "orig_nbformat": 4
 },
 "nbformat": 4,
 "nbformat_minor": 2
}
