{
 "cells": [
  {
   "cell_type": "code",
   "execution_count": 7,
   "metadata": {},
   "outputs": [],
   "source": [
    "import telebot\n",
    "import yadisk\n",
    "import sys\n",
    "import os\n"
   ]
  },
  {
   "cell_type": "code",
   "execution_count": 8,
   "metadata": {},
   "outputs": [
    {
     "data": {
      "text/plain": [
       "True"
      ]
     },
     "execution_count": 8,
     "metadata": {},
     "output_type": "execute_result"
    }
   ],
   "source": [
    "y = yadisk.YaDisk(token=\"AQAAAABicHdlAAgCbDVt0snMj0oCnjhFKbp8Uh4\")\n",
    "y.check_token()"
   ]
  },
  {
   "cell_type": "code",
   "execution_count": null,
   "metadata": {},
   "outputs": [],
   "source": []
  },
  {
   "cell_type": "code",
   "execution_count": 9,
   "metadata": {},
   "outputs": [],
   "source": [
    "bot = telebot.TeleBot('5313426341:AAFM1oAtKlDGmyFVzmrWPAfSVlovGL59vO4')"
   ]
  },
  {
   "cell_type": "code",
   "execution_count": 10,
   "metadata": {},
   "outputs": [],
   "source": [
    "@bot.message_handler(commands=[\"start\"])\n",
    "def start(m, res=False):\n",
    "    bot.send_message(m.chat.id, 'Отправь фотографию, и я её загружу )')"
   ]
  },
  {
   "cell_type": "code",
   "execution_count": 11,
   "metadata": {},
   "outputs": [],
   "source": [
    "@bot.message_handler(content_types=['document'])\n",
    "def handle_docs_photo(message):\n",
    "    try:\n",
    "        \n",
    "        chat_id = message.chat.id\n",
    "        file_info = bot.get_file(message.document.file_id)\n",
    "        downloaded_file = bot.download_file(file_info.file_path)\n",
    "        name = file_info.file_path\n",
    "        src = 'temp/' + message.document.file_name\n",
    "        with open(src, 'wb') as new_file:\n",
    "            new_file.write(downloaded_file)\n",
    "\n",
    "        y.upload('temp/{0}'.format(message.document.file_name),'LAbot/{0}'.format(message.document.file_name))\n",
    "        os.remove('temp/{0}'.format(message.document.file_name))\n",
    "\n",
    "       \n",
    "        bot.reply_to(message,'Фаил загружен! Теоретически....')#'Фаил загружен! Теоретически....'\n",
    "    except Exception as e:\n",
    "        bot.reply_to(message, e)"
   ]
  },
  {
   "cell_type": "code",
   "execution_count": 12,
   "metadata": {},
   "outputs": [],
   "source": [
    "bot.polling(none_stop=True, interval=0)"
   ]
  }
 ],
 "metadata": {
  "kernelspec": {
   "display_name": "Python 3.9.11 64-bit",
   "language": "python",
   "name": "python3"
  },
  "language_info": {
   "codemirror_mode": {
    "name": "ipython",
    "version": 3
   },
   "file_extension": ".py",
   "mimetype": "text/x-python",
   "name": "python",
   "nbconvert_exporter": "python",
   "pygments_lexer": "ipython3",
   "version": "3.9.11"
  },
  "orig_nbformat": 4,
  "vscode": {
   "interpreter": {
    "hash": "b04b454b7b8b0d5b2b05ca6b1912b833ec9edb505887d08a7ae24316f73a4579"
   }
  }
 },
 "nbformat": 4,
 "nbformat_minor": 2
}
