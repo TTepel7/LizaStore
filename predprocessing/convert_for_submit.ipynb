{
 "cells": [
  {
   "cell_type": "code",
   "execution_count": null,
   "metadata": {},
   "outputs": [],
   "source": [
    "import pandas as pd\n"
   ]
  },
  {
   "cell_type": "code",
   "execution_count": null,
   "metadata": {},
   "outputs": [],
   "source": [
    "predict = model.predict(x_train)"
   ]
  },
  {
   "cell_type": "code",
   "execution_count": null,
   "metadata": {},
   "outputs": [],
   "source": [
    "test = pd.read_csv('final_sub.csv', encoding='cp1251', sep=';')"
   ]
  },
  {
   "cell_type": "code",
   "execution_count": null,
   "metadata": {},
   "outputs": [],
   "source": [
    "answer_list = []\n",
    "\n",
    "\n",
    "def okr(a):\n",
    "    return 1 if a >= 0.5 else 0\n",
    "\n",
    "\n",
    "for i in range(len(test)):\n",
    "\n",
    "    time_day = 0\n",
    "    time_day_max = max(predict[i][8], predict[i][9], predict[i][10])\n",
    "    if predict[i][8] >= 0.5 and predict[i][8] == time_day_max:\n",
    "        # день\n",
    "        time_day = 1\n",
    "    elif predict[i][9] >= 0.5 and predict[i][9] == time_day_max:\n",
    "        # ночь\n",
    "        time_day = 2\n",
    "    elif predict[i][10] >= 0.5 and predict[i][10] == time_day_max:\n",
    "        # Расвет/закат\n",
    "        time_day = 3\n",
    "\n",
    "    time_year = 0\n",
    "    time_year_max = max(predict[i][11], predict[i]\n",
    "                        [12], predict[i][13], predict[i][14])\n",
    "    if predict[i][11] >= 0.5 and predict[i][11] == time_year_max:\n",
    "        # Зима\n",
    "        time_year = 1\n",
    "    elif predict[i][12] >= 0.5 and predict[i][12] == time_year_max:\n",
    "        # Весна\n",
    "        time_year = 2\n",
    "    elif predict[i][13] >= 0.5 and predict[i][13] == time_year_max:\n",
    "        # Лето\n",
    "        time_year = 3\n",
    "    elif predict[i][14] >= 0.5 and predict[i][14] == time_year_max:\n",
    "        # Осень\n",
    "        time_year = 4\n",
    "\n",
    "    location = 0\n",
    "    location_max = max(predict[i][15], predict[i][16])\n",
    "    if predict[i][15] >= 0.5 and predict[i][15] == location_max:\n",
    "        # лес\n",
    "        location = 1\n",
    "    elif predict[i][16] >= 0.5 and predict[i][16] == location_max:\n",
    "        # лес\n",
    "        location = 2\n",
    "\n",
    "    answer_list.append({\n",
    "        'filename': test['filename'][i],\n",
    "        'Время суток': time_day,\n",
    "        'Время года': time_year,\n",
    "        'Местность': location,\n",
    "        'Шерп': okr(predict[i][7]),\n",
    "        'Авто': okr(predict[i][1]),\n",
    "        'Вертолет': okr(predict[i][0]),\n",
    "        'БПЛА': okr(predict[i][2]),\n",
    "        'Кони': okr(predict[i][5]),\n",
    "        'Кинолог': okr(predict[i][4]),\n",
    "        'Водолаз': okr(predict[i][3]),\n",
    "        'Объятия': okr(predict[i][6]),\n",
    "    })\n"
   ]
  },
  {
   "cell_type": "code",
   "execution_count": null,
   "metadata": {},
   "outputs": [],
   "source": [
    "answer_df = pd.DataFrame(answer_list)\n",
    "answer_df.to_csv('a1.csv', index=None, encoding='cp1251', sep=';')\n"
   ]
  }
 ],
 "metadata": {
  "language_info": {
   "name": "python"
  },
  "orig_nbformat": 4
 },
 "nbformat": 4,
 "nbformat_minor": 2
}
